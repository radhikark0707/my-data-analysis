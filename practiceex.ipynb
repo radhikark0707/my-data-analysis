{
  "nbformat": 4,
  "nbformat_minor": 0,
  "metadata": {
    "colab": {
      "provenance": []
    },
    "kernelspec": {
      "name": "python3",
      "display_name": "Python 3"
    },
    "language_info": {
      "name": "python"
    }
  },
  "cells": [
    {
      "cell_type": "code",
      "execution_count": 1,
      "metadata": {
        "colab": {
          "base_uri": "https://localhost:8080/"
        },
        "id": "pgjUPosb5zLg",
        "outputId": "b69d7b66-8471-4e0d-901c-49cbfbc4f094"
      },
      "outputs": [
        {
          "output_type": "stream",
          "name": "stdout",
          "text": [
            "Enter the radius3\n",
            "Area of circle= 28.259999999999998\n"
          ]
        }
      ],
      "source": [
        "#Practice exercise on python basic\n",
        "#Question 1\n",
        "r=int(input(\"Enter the radius\"))\n",
        "a=3.14*r*r\n",
        "print(\"Area of circle=\",a)"
      ]
    },
    {
      "cell_type": "code",
      "source": [
        "#Question 2\n",
        "name=input(\"Enter the name\")\n",
        "roll=int(input(\"Enter the roll number\"))\n",
        "mark=int(input(\"Enter the mark\"))\n",
        "print(\"Name:\",name)\n",
        "print(\"Roll No:\",roll)\n",
        "print(\"Mark:\",mark)\n"
      ],
      "metadata": {
        "colab": {
          "base_uri": "https://localhost:8080/"
        },
        "id": "nSTF_P9c9Ck5",
        "outputId": "38519679-bd2b-41be-dea1-304267968c48"
      },
      "execution_count": 2,
      "outputs": [
        {
          "output_type": "stream",
          "name": "stdout",
          "text": [
            "Enter the nameAnisha\n",
            "Enter the roll number21\n",
            "Enter the mark78\n",
            "Name: Anisha\n",
            "Roll No: 21\n",
            "Mark: 78\n"
          ]
        }
      ]
    },
    {
      "cell_type": "code",
      "source": [
        "#Question 3\n",
        "li=[12,3,47,10]\n",
        "l=max(li)\n",
        "print(l,\" is the largest number\")"
      ],
      "metadata": {
        "colab": {
          "base_uri": "https://localhost:8080/"
        },
        "id": "xsYvwlYt9udF",
        "outputId": "27fcd982-9905-4cca-fdb5-5471e6bee1a5"
      },
      "execution_count": 3,
      "outputs": [
        {
          "output_type": "stream",
          "name": "stdout",
          "text": [
            "47  is the largest number\n"
          ]
        }
      ]
    },
    {
      "cell_type": "code",
      "source": [
        "#Question 4\n",
        "for i in range(1,11):\n",
        "  c=i\n",
        "  p=c-1\n",
        "  s=p+c\n",
        "  print(\"Current Number:\",c)\n",
        "  print(\"Previous Number:\",p)\n",
        "  print(\"Sum:\",s)\n"
      ],
      "metadata": {
        "colab": {
          "base_uri": "https://localhost:8080/"
        },
        "id": "zP1gDQU7-T2h",
        "outputId": "bff6a7c2-94d4-4e4d-a869-c143dfebc780"
      },
      "execution_count": 6,
      "outputs": [
        {
          "output_type": "stream",
          "name": "stdout",
          "text": [
            "Current Number: 1\n",
            "Previous Number: 0\n",
            "Sum: 1\n",
            "Current Number: 2\n",
            "Previous Number: 1\n",
            "Sum: 3\n",
            "Current Number: 3\n",
            "Previous Number: 2\n",
            "Sum: 5\n",
            "Current Number: 4\n",
            "Previous Number: 3\n",
            "Sum: 7\n",
            "Current Number: 5\n",
            "Previous Number: 4\n",
            "Sum: 9\n",
            "Current Number: 6\n",
            "Previous Number: 5\n",
            "Sum: 11\n",
            "Current Number: 7\n",
            "Previous Number: 6\n",
            "Sum: 13\n",
            "Current Number: 8\n",
            "Previous Number: 7\n",
            "Sum: 15\n",
            "Current Number: 9\n",
            "Previous Number: 8\n",
            "Sum: 17\n",
            "Current Number: 10\n",
            "Previous Number: 9\n",
            "Sum: 19\n"
          ]
        }
      ]
    },
    {
      "cell_type": "code",
      "source": [
        "#Question 5\n",
        "si=[10,20,33,46,55]\n",
        "for i in si:\n",
        "  if i % 5==0:\n",
        "    print(i,end=\" \")"
      ],
      "metadata": {
        "colab": {
          "base_uri": "https://localhost:8080/"
        },
        "id": "l1hPIY01_nAP",
        "outputId": "2ff73640-3dca-43d1-81a7-87cfd870a26a"
      },
      "execution_count": 8,
      "outputs": [
        {
          "output_type": "stream",
          "name": "stdout",
          "text": [
            "10 20 55 "
          ]
        }
      ]
    },
    {
      "cell_type": "code",
      "source": [
        "#Question 6\n",
        "p=int(input(\"Enter the number:\"))\n",
        "if p==1:\n",
        "  print(p,\"is not a prime number\")\n",
        "elif p>1:\n",
        "  for i in range(2,p):\n",
        "    if(p%i==0):\n",
        "      print(p,\" is not a prime number\")\n",
        "      break\n",
        "    else:\n",
        "      print(p,\" is a prime number\")\n",
        "\n"
      ],
      "metadata": {
        "colab": {
          "base_uri": "https://localhost:8080/"
        },
        "id": "c_R8-k-eALRC",
        "outputId": "5b1b3c30-d432-48db-ec3b-3f657fa21d3f"
      },
      "execution_count": 14,
      "outputs": [
        {
          "output_type": "stream",
          "name": "stdout",
          "text": [
            "Enter the number:3\n",
            "3  is a prime number\n"
          ]
        }
      ]
    },
    {
      "cell_type": "code",
      "source": [
        "#Question 7\n",
        "list2=[]\n",
        "lim=int(input(\"Enter number of elements\"))\n",
        "for i in range(lim):\n",
        "  ve=int(input())\n",
        "  list2.append(ve)\n",
        "print(\"List:\",list2)\n",
        "rev=list2[::-1]\n",
        "print(\"Reversed list:\",rev)\n"
      ],
      "metadata": {
        "colab": {
          "base_uri": "https://localhost:8080/"
        },
        "id": "R-bu6HzjDCFd",
        "outputId": "05bfd2a4-cd84-443a-9a1e-98fed8dc49e6"
      },
      "execution_count": 16,
      "outputs": [
        {
          "output_type": "stream",
          "name": "stdout",
          "text": [
            "Enter number of elements4\n",
            "10\n",
            "40\n",
            "30\n",
            "70\n",
            "List: [10, 40, 30, 70]\n",
            "Reversed list: [70, 30, 40, 10]\n"
          ]
        }
      ]
    },
    {
      "cell_type": "code",
      "source": [
        "#Question 8\n",
        "s=4\n",
        "for i in range(s+1):\n",
        "  print('*'*i)"
      ],
      "metadata": {
        "colab": {
          "base_uri": "https://localhost:8080/"
        },
        "id": "qxWfVtgAEns4",
        "outputId": "3e17d63b-30c0-4315-c489-e31c5763e78f"
      },
      "execution_count": 17,
      "outputs": [
        {
          "output_type": "stream",
          "name": "stdout",
          "text": [
            "\n",
            "*\n",
            "**\n",
            "***\n",
            "****\n"
          ]
        }
      ]
    },
    {
      "cell_type": "code",
      "source": [
        "#Question 9\n",
        "a1=int(input(\"Enter the value:\"))\n",
        "a2=int(input(\"Enter the value:\"))\n",
        "a3=int(input(\"Enter the value:\"))\n",
        "if a1>a2 and a1>a3:\n",
        "  l=a1\n",
        "elif a2>a1 and a2>a3:\n",
        "  l=a2\n",
        "elif a3>a1 and a3>a2:\n",
        "  l=a3\n",
        "print(\"Maximum:\",l)\n"
      ],
      "metadata": {
        "colab": {
          "base_uri": "https://localhost:8080/"
        },
        "id": "jLxmr8kyFCLb",
        "outputId": "c079f122-442b-48ba-a5a3-05f3dcdb8473"
      },
      "execution_count": 18,
      "outputs": [
        {
          "output_type": "stream",
          "name": "stdout",
          "text": [
            "Enter the value:34\n",
            "Enter the value:12\n",
            "Enter the value:7\n",
            "Maximum: 34\n"
          ]
        }
      ]
    },
    {
      "cell_type": "code",
      "source": [
        "#Question 10\n",
        "r=5\n",
        "for i in range(r+1):\n",
        "  print('*'*i)\n",
        "for i in range(r-1,0,-1):\n",
        "  print('*'*i)"
      ],
      "metadata": {
        "colab": {
          "base_uri": "https://localhost:8080/"
        },
        "id": "wPkSU2gUHGDA",
        "outputId": "fca5ab1d-d04f-4b1a-be1f-4dc1f3241e76"
      },
      "execution_count": 19,
      "outputs": [
        {
          "output_type": "stream",
          "name": "stdout",
          "text": [
            "\n",
            "*\n",
            "**\n",
            "***\n",
            "****\n",
            "*****\n",
            "****\n",
            "***\n",
            "**\n",
            "*\n"
          ]
        }
      ]
    }
  ]
}