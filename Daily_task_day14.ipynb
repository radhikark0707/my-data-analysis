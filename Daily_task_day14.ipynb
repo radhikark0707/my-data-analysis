{
  "nbformat": 4,
  "nbformat_minor": 0,
  "metadata": {
    "colab": {
      "provenance": []
    },
    "kernelspec": {
      "name": "python3",
      "display_name": "Python 3"
    },
    "language_info": {
      "name": "python"
    }
  },
  "cells": [
    {
      "cell_type": "code",
      "execution_count": null,
      "metadata": {
        "colab": {
          "base_uri": "https://localhost:8080/"
        },
        "id": "kItZGlm-8wAV",
        "outputId": "e33c4a7f-4b71-443f-cbee-8aecb7f06231"
      },
      "outputs": [
        {
          "output_type": "stream",
          "name": "stdout",
          "text": [
            "Enter value 1:56\n",
            "Enter value 2:78\n",
            "Enter value 3:90\n",
            "Maximum value: 90\n"
          ]
        }
      ],
      "source": [
        "#Question 1\n",
        "def maxi(a,b,c):\n",
        "  if a>b and a>c:\n",
        "    l=a\n",
        "  elif b>a and b>c:\n",
        "    l=b\n",
        "  elif c>a and c>b:\n",
        "    l=c\n",
        "  return (l)\n",
        "one=int(input(\"Enter value 1:\"))\n",
        "two=int(input(\"Enter value 2:\"))\n",
        "three=int(input(\"Enter value 3:\"))\n",
        "anw=maxi(one,two,three)\n",
        "print(\"Maximum value:\",anw)\n"
      ]
    },
    {
      "cell_type": "code",
      "source": [
        "#Question 2\n",
        "def cir(ra):\n",
        "  area=3.14*ra*ra\n",
        "  return (area)\n",
        "r=int(input(\"Enter the radius\"))\n",
        "ans=cir(r)\n",
        "print(\"Area of circle:\",ans)"
      ],
      "metadata": {
        "colab": {
          "base_uri": "https://localhost:8080/"
        },
        "id": "ZE1Fm-Yp9AHr",
        "outputId": "21407061-2966-4a93-a698-06005c598307"
      },
      "execution_count": null,
      "outputs": [
        {
          "output_type": "stream",
          "name": "stdout",
          "text": [
            "Enter the radius2\n",
            "Area of circle: 12.56\n"
          ]
        }
      ]
    },
    {
      "cell_type": "code",
      "source": [
        "#Question 3\n",
        "def prime(p):\n",
        "  if(p>1):\n",
        "    for i in range(2,(p//2)+1):\n",
        "      if(p%i==0):\n",
        "        return False\n",
        "      else:\n",
        "        return True\n",
        "p=int(input(\"Enter the number\"))\n",
        "an=prime(p)\n",
        "print(an)\n",
        "\n"
      ],
      "metadata": {
        "colab": {
          "base_uri": "https://localhost:8080/"
        },
        "id": "58LVPd5b_sok",
        "outputId": "d941de41-bc39-49c7-91f0-94966fa6bb64"
      },
      "execution_count": null,
      "outputs": [
        {
          "output_type": "stream",
          "name": "stdout",
          "text": [
            "Enter the number7\n",
            "True\n"
          ]
        }
      ]
    },
    {
      "cell_type": "code",
      "source": [
        "#Question 4\n",
        "def pal(str):\n",
        "  rev=str[::-1]\n",
        "  if str==rev:\n",
        "    return True\n",
        "  else:\n",
        "    return False\n",
        "string=input(\"Enter the string:\")\n",
        "ans=pal(string)\n",
        "print(ans)"
      ],
      "metadata": {
        "colab": {
          "base_uri": "https://localhost:8080/"
        },
        "id": "WwVk72K6GS1b",
        "outputId": "b78c13d4-03ca-421b-d554-facc6fc03d14"
      },
      "execution_count": null,
      "outputs": [
        {
          "output_type": "stream",
          "name": "stdout",
          "text": [
            "Enter the string:malayalam\n",
            "True\n"
          ]
        }
      ]
    },
    {
      "cell_type": "code",
      "source": [
        "#Question 5\n",
        "def sum(list1):\n",
        "  s=0\n",
        "  for i in range(len(list1)):\n",
        "    s=s+list1[i]\n",
        "  return s\n",
        "list11=[11,5,89,34,76]\n",
        "answ=sum(list11)\n",
        "print(\"Sum:\",answ)"
      ],
      "metadata": {
        "colab": {
          "base_uri": "https://localhost:8080/"
        },
        "id": "UG8xiOzsIPAj",
        "outputId": "91c19b82-bc1c-438e-bb1b-2ff4ccd31b25"
      },
      "execution_count": null,
      "outputs": [
        {
          "output_type": "stream",
          "name": "stdout",
          "text": [
            "Sum: 215\n"
          ]
        }
      ]
    },
    {
      "cell_type": "code",
      "source": [
        "#Question 6\n",
        "def avg(list2):\n",
        "  sum=0\n",
        "  for i in range(len(list2)):\n",
        "    sum=sum+list2[i]\n",
        "  l=len(list2)\n",
        "  ag=sum/l\n",
        "  return ag\n",
        "list12=[23,56,67,12,3]\n",
        "avge=avg(list12)\n",
        "print(\"Average:\",avge)"
      ],
      "metadata": {
        "colab": {
          "base_uri": "https://localhost:8080/"
        },
        "id": "37YxQ0wlLau6",
        "outputId": "c6b555f2-a583-4a23-ddd7-59c29ed722a0"
      },
      "execution_count": null,
      "outputs": [
        {
          "output_type": "stream",
          "name": "stdout",
          "text": [
            "Average: 32.2\n"
          ]
        }
      ]
    },
    {
      "cell_type": "code",
      "source": [
        "#Question 7\n",
        "def kl(li,k):\n",
        "  li=sorted(li,reverse=True)\n",
        "  return li[k-1]\n",
        "\n",
        "li=[56,2,90,23,5]\n",
        "v=2\n",
        "value=kl(li,v)\n",
        "print(v,\"th largest element is\",value)\n"
      ],
      "metadata": {
        "colab": {
          "base_uri": "https://localhost:8080/"
        },
        "id": "QnfMaPgUNWSV",
        "outputId": "03aa624e-3902-475f-88bc-7209e1e1dd38"
      },
      "execution_count": null,
      "outputs": [
        {
          "output_type": "stream",
          "name": "stdout",
          "text": [
            "2 th largest element is 56\n"
          ]
        }
      ]
    },
    {
      "cell_type": "code",
      "source": [
        "#Question 8\n",
        "def sum(number):\n",
        "  if number<10:\n",
        "    return number\n",
        "  else:\n",
        "    return sum(sum(number //10) + number %10)\n",
        "n1=12345\n",
        "re=sum(n1)\n",
        "print(\"Sum of digit\",re)"
      ],
      "metadata": {
        "colab": {
          "base_uri": "https://localhost:8080/"
        },
        "id": "aDx5pvIWRiyI",
        "outputId": "6cb21621-246e-4c41-b422-b541d5f11939"
      },
      "execution_count": null,
      "outputs": [
        {
          "output_type": "stream",
          "name": "stdout",
          "text": [
            "Sum of digit 6\n"
          ]
        }
      ]
    },
    {
      "cell_type": "code",
      "source": [
        "#Question 9\n",
        "def po(b,e):\n",
        "  if(e==1):\n",
        "    return b\n",
        "  else:\n",
        "    return (b*po(b,e-1))\n",
        "ba=int(input(\"Enter the value of base:\"))\n",
        "ex=int(input(\"Enter the valye of exponent:\"))\n",
        "z=po(ba,ex)\n",
        "print(\"Power of number\",z)\n"
      ],
      "metadata": {
        "colab": {
          "base_uri": "https://localhost:8080/"
        },
        "id": "fxwP1EwEXju7",
        "outputId": "41c2120e-31a1-42a2-f020-828eab2ba268"
      },
      "execution_count": null,
      "outputs": [
        {
          "output_type": "stream",
          "name": "stdout",
          "text": [
            "Enter the value of base:2\n",
            "Enter the valye of exponent:3\n",
            "Power of number 8\n"
          ]
        }
      ]
    },
    {
      "cell_type": "code",
      "source": [
        "#Question 10\n",
        "def g(m1,m2):\n",
        "  if m1<m2:\n",
        "    (m1,m2)=(m2,m1)\n",
        "  while (m1 % m2!=0):\n",
        "    (m1,m2)=(m2,m1%m2)\n",
        "  return m2\n",
        "ab=8\n",
        "bc=12\n",
        "res=g(8,12)\n",
        "print(\"Gcd of\",ab,\"and\" ,bc,\"is\",res)\n",
        "\n"
      ],
      "metadata": {
        "colab": {
          "base_uri": "https://localhost:8080/"
        },
        "id": "awa5wzpPcAFO",
        "outputId": "7a66571f-5fca-4ccc-ecaf-60fa93d70900"
      },
      "execution_count": null,
      "outputs": [
        {
          "output_type": "stream",
          "name": "stdout",
          "text": [
            "Gcd of 8 and 12 is 4\n"
          ]
        }
      ]
    },
    {
      "cell_type": "code",
      "source": [
        "#Question 11\n",
        "import numpy as np\n",
        "id=np.arange(0,10)\n",
        "id\n"
      ],
      "metadata": {
        "colab": {
          "base_uri": "https://localhost:8080/"
        },
        "id": "5xJpFJKqeR0F",
        "outputId": "213b99dc-a598-4677-9cd4-b2fc1722155c"
      },
      "execution_count": null,
      "outputs": [
        {
          "output_type": "execute_result",
          "data": {
            "text/plain": [
              "array([0, 1, 2, 3, 4, 5, 6, 7, 8, 9])"
            ]
          },
          "metadata": {},
          "execution_count": 42
        }
      ]
    },
    {
      "cell_type": "code",
      "source": [
        "#Question 12\n",
        "v=np.arange(1,10)\n",
        "twod=v.reshape(3,3)\n",
        "twod\n",
        "\n"
      ],
      "metadata": {
        "colab": {
          "base_uri": "https://localhost:8080/"
        },
        "id": "KvOvUCMhfbYa",
        "outputId": "243953b2-07ea-425a-e89a-4262df27f711"
      },
      "execution_count": null,
      "outputs": [
        {
          "output_type": "execute_result",
          "data": {
            "text/plain": [
              "array([[1, 2, 3],\n",
              "       [4, 5, 6],\n",
              "       [7, 8, 9]])"
            ]
          },
          "metadata": {},
          "execution_count": 45
        }
      ]
    },
    {
      "cell_type": "code",
      "source": [
        "#Question 13\n",
        "i=np.identity(3)\n",
        "i"
      ],
      "metadata": {
        "colab": {
          "base_uri": "https://localhost:8080/"
        },
        "id": "B3mjFQjVgprp",
        "outputId": "afd51d7a-e42a-4c59-8b2a-354dd1a842a0"
      },
      "execution_count": null,
      "outputs": [
        {
          "output_type": "execute_result",
          "data": {
            "text/plain": [
              "array([[1., 0., 0.],\n",
              "       [0., 1., 0.],\n",
              "       [0., 0., 1.]])"
            ]
          },
          "metadata": {},
          "execution_count": 46
        }
      ]
    },
    {
      "cell_type": "code",
      "source": [
        "#Question 14\n",
        "a1=np.random.randn(10)\n",
        "mean=np.mean(a1)\n",
        "standard=np.std(a1)\n",
        "print(\"mean=\",mean)\n",
        "print(\"standard deviation=\",standard)"
      ],
      "metadata": {
        "colab": {
          "base_uri": "https://localhost:8080/"
        },
        "id": "XCw-8aljhWrG",
        "outputId": "5df5d7ae-2cbd-4b0a-8dde-5dc713030210"
      },
      "execution_count": null,
      "outputs": [
        {
          "output_type": "stream",
          "name": "stdout",
          "text": [
            "mean= 0.35673772955475425\n",
            "standard deviation= 1.3596231003056278\n"
          ]
        }
      ]
    },
    {
      "cell_type": "code",
      "source": [
        "#Question 15\n",
        "a11=np.arange(10,21)\n",
        "e=a11[:5]\n",
        "e"
      ],
      "metadata": {
        "colab": {
          "base_uri": "https://localhost:8080/"
        },
        "id": "EuPmgftzivWj",
        "outputId": "0d51c346-0014-439b-c4bb-0e6a23875691"
      },
      "execution_count": null,
      "outputs": [
        {
          "output_type": "execute_result",
          "data": {
            "text/plain": [
              "array([10, 11, 12, 13, 14])"
            ]
          },
          "metadata": {},
          "execution_count": 52
        }
      ]
    },
    {
      "cell_type": "code",
      "source": [
        "#Question 16\n",
        "kl=np.arange(0,16)\n",
        "vl=kl.reshape(4,4)\n",
        "print(vl[1,:])"
      ],
      "metadata": {
        "colab": {
          "base_uri": "https://localhost:8080/"
        },
        "id": "2nVlV8sJjfA6",
        "outputId": "6950f3e3-dfa5-4e99-b52a-f336ed3d61e4"
      },
      "execution_count": null,
      "outputs": [
        {
          "output_type": "stream",
          "name": "stdout",
          "text": [
            "[4 5 6 7]\n"
          ]
        }
      ]
    },
    {
      "cell_type": "code",
      "source": [
        "#Question 17\n",
        "one=np.arange(1,6)\n",
        "two=np.arange(6,11)\n",
        "st=np.vstack((one,two))\n",
        "print(st)\n",
        "add=one+two\n",
        "print(add)\n"
      ],
      "metadata": {
        "colab": {
          "base_uri": "https://localhost:8080/"
        },
        "id": "nPQ7pjP5k3g9",
        "outputId": "a51b2c3c-6f10-4f27-fb99-c9272e17861b"
      },
      "execution_count": null,
      "outputs": [
        {
          "output_type": "stream",
          "name": "stdout",
          "text": [
            "[[ 1  2  3  4  5]\n",
            " [ 6  7  8  9 10]]\n",
            "[ 7  9 11 13 15]\n"
          ]
        }
      ]
    },
    {
      "cell_type": "code",
      "source": [
        "#Question 18\n",
        "r1=np.random.rand(10)\n",
        "r1[r1<0.5]=0\n",
        "r1\n"
      ],
      "metadata": {
        "colab": {
          "base_uri": "https://localhost:8080/"
        },
        "id": "HGgVN-t1ngy-",
        "outputId": "dffc4b85-6d34-4836-9cfa-9220751b9331"
      },
      "execution_count": null,
      "outputs": [
        {
          "output_type": "execute_result",
          "data": {
            "text/plain": [
              "array([0.9599072 , 0.        , 0.97156095, 0.6741278 , 0.9945591 ,\n",
              "       0.        , 0.        , 0.        , 0.63517104, 0.        ])"
            ]
          },
          "metadata": {},
          "execution_count": 64
        }
      ]
    }
  ]
}