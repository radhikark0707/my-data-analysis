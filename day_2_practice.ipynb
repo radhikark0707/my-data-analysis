{
  "nbformat": 4,
  "nbformat_minor": 0,
  "metadata": {
    "colab": {
      "provenance": []
    },
    "kernelspec": {
      "name": "python3",
      "display_name": "Python 3"
    },
    "language_info": {
      "name": "python"
    }
  },
  "cells": [
    {
      "cell_type": "code",
      "execution_count": null,
      "metadata": {
        "colab": {
          "base_uri": "https://localhost:8080/"
        },
        "id": "MfQrWb2bZuAT",
        "outputId": "83bd5353-d7de-495c-8e80-60e8bf729e90"
      },
      "outputs": [
        {
          "output_type": "stream",
          "name": "stdout",
          "text": [
            "Hello\n"
          ]
        }
      ],
      "source": [
        "#Question 1\n",
        "string=\"Hello,world!\"\n",
        "sub=string[:5]\n",
        "print(sub)"
      ]
    },
    {
      "cell_type": "code",
      "source": [
        "#Question 2\n",
        "string=\"python is fun\"\n",
        "substring=string[6:9]\n",
        "print(substring)"
      ],
      "metadata": {
        "colab": {
          "base_uri": "https://localhost:8080/"
        },
        "id": "qYISdXNYe2mY",
        "outputId": "6ed3f781-4862-4bc5-b99f-119c47e62988"
      },
      "execution_count": null,
      "outputs": [
        {
          "output_type": "stream",
          "name": "stdout",
          "text": [
            " is\n"
          ]
        }
      ]
    },
    {
      "cell_type": "code",
      "source": [
        "#Question 3\n",
        "s=\"programming\"\n",
        "sl=s[3:7]\n",
        "print(sl)"
      ],
      "metadata": {
        "id": "T7iZrOd-fUSr",
        "colab": {
          "base_uri": "https://localhost:8080/"
        },
        "outputId": "da04b7b9-5ea1-4a0b-aa25-cd792635953c"
      },
      "execution_count": 2,
      "outputs": [
        {
          "output_type": "stream",
          "name": "stdout",
          "text": [
            "gram\n"
          ]
        }
      ]
    },
    {
      "cell_type": "code",
      "source": [
        "#Question 4\n",
        "st=\"abcdefgh\"\n",
        "e=st[::2]\n",
        "print(e)\n"
      ],
      "metadata": {
        "colab": {
          "base_uri": "https://localhost:8080/"
        },
        "id": "YUQo3ZtLJci6",
        "outputId": "b8393e92-2b91-44a8-fb71-024850409f53"
      },
      "execution_count": 3,
      "outputs": [
        {
          "output_type": "stream",
          "name": "stdout",
          "text": [
            "aceg\n"
          ]
        }
      ]
    },
    {
      "cell_type": "code",
      "source": [
        "#Question 5\n",
        "s=\"abcdefg\"\n",
        "c=s[-3::]\n",
        "print(c)"
      ],
      "metadata": {
        "colab": {
          "base_uri": "https://localhost:8080/"
        },
        "id": "U70gNBeoKbbc",
        "outputId": "cfe6b356-5fcc-4a78-c608-2774aa6f71b8"
      },
      "execution_count": 6,
      "outputs": [
        {
          "output_type": "stream",
          "name": "stdout",
          "text": [
            "efg\n"
          ]
        }
      ]
    },
    {
      "cell_type": "code",
      "source": [
        "#Question 6\n",
        "d=\"Data Science\"\n",
        "e=d[-3::]\n",
        "print(e)"
      ],
      "metadata": {
        "colab": {
          "base_uri": "https://localhost:8080/"
        },
        "id": "KhZy_fRmLt4o",
        "outputId": "e535321a-44a1-47f3-e066-ca61aaa4a85e"
      },
      "execution_count": 7,
      "outputs": [
        {
          "output_type": "stream",
          "name": "stdout",
          "text": [
            "nce\n"
          ]
        }
      ]
    },
    {
      "cell_type": "code",
      "source": [
        "#Question 7\n",
        "f=\"abcdefghij\"\n",
        "g=f[1::2]\n",
        "print(g)"
      ],
      "metadata": {
        "colab": {
          "base_uri": "https://localhost:8080/"
        },
        "id": "P3kZ9G9tMfT6",
        "outputId": "f8e567af-c280-4ad6-f158-9a195f2125f5"
      },
      "execution_count": 10,
      "outputs": [
        {
          "output_type": "stream",
          "name": "stdout",
          "text": [
            "bdfhj\n"
          ]
        }
      ]
    },
    {
      "cell_type": "code",
      "source": [
        "#Question 8\n",
        "s=\"1234567890\"\n",
        "r=s[::2]\n",
        "print(r)"
      ],
      "metadata": {
        "colab": {
          "base_uri": "https://localhost:8080/"
        },
        "id": "WGfKaLVHPyRM",
        "outputId": "921169d6-f78d-43c3-9793-888d3d136537"
      },
      "execution_count": 11,
      "outputs": [
        {
          "output_type": "stream",
          "name": "stdout",
          "text": [
            "13579\n"
          ]
        }
      ]
    },
    {
      "cell_type": "code",
      "source": [
        "#Question 9\n",
        "g=\"Hello\"\n",
        "h=g[::-1]\n",
        "print(h)"
      ],
      "metadata": {
        "colab": {
          "base_uri": "https://localhost:8080/"
        },
        "id": "wSNn2GqjRff0",
        "outputId": "d84f0a2f-7757-43aa-e69b-0c2ff341f678"
      },
      "execution_count": 18,
      "outputs": [
        {
          "output_type": "stream",
          "name": "stdout",
          "text": [
            "olleH\n"
          ]
        }
      ]
    },
    {
      "cell_type": "code",
      "source": [
        "#Question 10\n",
        "s=\"abcdefghijk\"\n",
        "t=s[0::2]\n",
        "print(t)"
      ],
      "metadata": {
        "colab": {
          "base_uri": "https://localhost:8080/"
        },
        "id": "D4ucqXBYSx3f",
        "outputId": "6cc5da2f-ce99-4c96-e498-8b42c53eeffb"
      },
      "execution_count": 23,
      "outputs": [
        {
          "output_type": "stream",
          "name": "stdout",
          "text": [
            "acegik\n"
          ]
        }
      ]
    },
    {
      "cell_type": "code",
      "source": [
        "#Question 11\n",
        "l=[1,2,3,4,5]\n",
        "s=sum(l)\n",
        "print(s)"
      ],
      "metadata": {
        "colab": {
          "base_uri": "https://localhost:8080/"
        },
        "id": "7QHL3c3bW0GG",
        "outputId": "02fa288c-7225-4300-cb10-b43e8cc07c44"
      },
      "execution_count": 24,
      "outputs": [
        {
          "output_type": "stream",
          "name": "stdout",
          "text": [
            "15\n"
          ]
        }
      ]
    },
    {
      "cell_type": "code",
      "source": [
        "#Question 12\n",
        "str=input(\"enter the string\")\n",
        "l=len(str)\n",
        "print(l)\n",
        "h=l//2\n",
        "p=str[:h]\n",
        "print(p)"
      ],
      "metadata": {
        "colab": {
          "base_uri": "https://localhost:8080/"
        },
        "id": "Vjhr0KmIaLmy",
        "outputId": "c39517e2-9043-491f-dd66-fa2fae3a9439"
      },
      "execution_count": 28,
      "outputs": [
        {
          "output_type": "stream",
          "name": "stdout",
          "text": [
            "enter the stringhello world\n",
            "11\n",
            "hello\n"
          ]
        }
      ]
    },
    {
      "cell_type": "code",
      "source": [
        "#Question 13\n",
        "tup1=(78,45,32,19,82,77,40,39)\n",
        "list1=list(tup1)\n",
        "list1[2]=100\n",
        "t=tuple(list1)\n",
        "print(t)"
      ],
      "metadata": {
        "colab": {
          "base_uri": "https://localhost:8080/"
        },
        "id": "BPnEwSmdbgzE",
        "outputId": "91a4e611-45b0-4266-948e-4955d5d74033"
      },
      "execution_count": 31,
      "outputs": [
        {
          "output_type": "stream",
          "name": "stdout",
          "text": [
            "(78, 45, 100, 19, 82, 77, 40, 39)\n"
          ]
        }
      ]
    },
    {
      "cell_type": "code",
      "source": [
        "#Question 14\n",
        "listA=[19,32,10,55,31,32,94,29,10,65,77,40,40]\n",
        "\n",
        "#Question 14 a)\n",
        "listA.remove(32)\n",
        "print(listA)\n"
      ],
      "metadata": {
        "colab": {
          "base_uri": "https://localhost:8080/"
        },
        "id": "eRTyrm_1oJpP",
        "outputId": "d5b6fff5-b276-42a9-e40b-96c3b2cd9e9f"
      },
      "execution_count": 34,
      "outputs": [
        {
          "output_type": "stream",
          "name": "stdout",
          "text": [
            "[19, 10, 55, 31, 32, 94, 29, 10, 65, 77, 40, 40]\n"
          ]
        }
      ]
    },
    {
      "cell_type": "code",
      "source": [
        "#question 14 b)\n",
        "value=40\n",
        "while value in listA:\n",
        "  listA.remove(40)\n",
        "print(listA)"
      ],
      "metadata": {
        "colab": {
          "base_uri": "https://localhost:8080/"
        },
        "id": "t9Wr7PgyrkO5",
        "outputId": "ec3bf416-8225-440f-aa14-4c0ac023d609"
      },
      "execution_count": 38,
      "outputs": [
        {
          "output_type": "stream",
          "name": "stdout",
          "text": [
            "[19, 10, 55, 31, 32, 94, 29, 10, 65, 77]\n"
          ]
        }
      ]
    },
    {
      "cell_type": "code",
      "source": [
        "#Question 14 c)\n",
        "del listA[5]\n",
        "print(listA)"
      ],
      "metadata": {
        "colab": {
          "base_uri": "https://localhost:8080/"
        },
        "id": "RmR_-oL-tltt",
        "outputId": "9118a0cd-19b4-420b-8ae2-27179ea5666e"
      },
      "execution_count": 39,
      "outputs": [
        {
          "output_type": "stream",
          "name": "stdout",
          "text": [
            "[19, 10, 55, 31, 32, 29, 10, 65, 77]\n"
          ]
        }
      ]
    },
    {
      "cell_type": "code",
      "source": [
        "#Question 14 d)\n",
        "listA[8]=300\n",
        "print(listA)"
      ],
      "metadata": {
        "colab": {
          "base_uri": "https://localhost:8080/"
        },
        "id": "RM0DKtpZuRfV",
        "outputId": "a2d9fe2c-abea-4fe1-96eb-39e69033b517"
      },
      "execution_count": 42,
      "outputs": [
        {
          "output_type": "stream",
          "name": "stdout",
          "text": [
            "[19, 10, 55, 31, 32, 29, 10, 65, 300]\n"
          ]
        }
      ]
    },
    {
      "cell_type": "code",
      "source": [
        "#Question 14 e)\n",
        "listA.insert(2,200)\n",
        "print(listA)"
      ],
      "metadata": {
        "colab": {
          "base_uri": "https://localhost:8080/"
        },
        "id": "U60LKiSPvehL",
        "outputId": "06f5d39f-d02c-4dd2-933b-b8d4fcf2f8f3"
      },
      "execution_count": 43,
      "outputs": [
        {
          "output_type": "stream",
          "name": "stdout",
          "text": [
            "[19, 10, 200, 55, 31, 32, 29, 10, 65, 300]\n"
          ]
        }
      ]
    },
    {
      "cell_type": "code",
      "source": [
        "#Question 14 f)\n",
        "l=len(listA)\n",
        "print(\"length:\",l)\n",
        "m=max(listA)\n",
        "print('Max=',m)\n",
        "s=sum(listA)\n",
        "print('sum=',s)"
      ],
      "metadata": {
        "colab": {
          "base_uri": "https://localhost:8080/"
        },
        "id": "9eSZn8Vhv2a3",
        "outputId": "a891b849-0547-4beb-a829-1b80055123af"
      },
      "execution_count": 45,
      "outputs": [
        {
          "output_type": "stream",
          "name": "stdout",
          "text": [
            "length: 10\n",
            "Max= 300\n",
            "sum= 751\n"
          ]
        }
      ]
    },
    {
      "cell_type": "code",
      "source": [
        "#Question 15\n",
        "s=\"The day has been long\"\n",
        "#Question 15 a)\n",
        "l=list(s)\n",
        "l.pop(4)\n",
        "string=''.join(l)\n",
        "print(string)"
      ],
      "metadata": {
        "colab": {
          "base_uri": "https://localhost:8080/"
        },
        "id": "jMVdX_gi0zwe",
        "outputId": "3f59e5c2-fce1-4574-8b89-a83f11e7964c"
      },
      "execution_count": 48,
      "outputs": [
        {
          "output_type": "stream",
          "name": "stdout",
          "text": [
            "The ay has been long\n"
          ]
        }
      ]
    },
    {
      "cell_type": "code",
      "source": [
        "#Question 15 b)\n",
        "print((s+' ')*4)"
      ],
      "metadata": {
        "colab": {
          "base_uri": "https://localhost:8080/"
        },
        "id": "f-LQyIvb5afO",
        "outputId": "381209c6-7a6b-49ab-bcf2-ef45b4f295cf"
      },
      "execution_count": 51,
      "outputs": [
        {
          "output_type": "stream",
          "name": "stdout",
          "text": [
            "The day has been long The day has been long The day has been long The day has been long \n"
          ]
        }
      ]
    },
    {
      "cell_type": "code",
      "source": [
        "#Question 15 c)\n",
        "print((s+'\\n')*3)"
      ],
      "metadata": {
        "colab": {
          "base_uri": "https://localhost:8080/"
        },
        "id": "TQ3M3edU6Bls",
        "outputId": "2532db8d-7bfe-4351-d750-e7328b46cc3f"
      },
      "execution_count": 52,
      "outputs": [
        {
          "output_type": "stream",
          "name": "stdout",
          "text": [
            "The day has been long\n",
            "The day has been long\n",
            "The day has been long\n",
            "\n"
          ]
        }
      ]
    },
    {
      "cell_type": "code",
      "source": [
        "#Question 15 d)\n",
        "list1=list(''.join(s.split()))\n",
        "list1[7]='A'\n",
        "n=''.join(list1)\n",
        "print(n)"
      ],
      "metadata": {
        "colab": {
          "base_uri": "https://localhost:8080/"
        },
        "id": "Ncv-OJ2K9hr7",
        "outputId": "ec743516-1e86-4492-c685-e87ea9422095"
      },
      "execution_count": 60,
      "outputs": [
        {
          "output_type": "stream",
          "name": "stdout",
          "text": [
            "ThedayhAsbeenlong\n"
          ]
        }
      ]
    },
    {
      "cell_type": "code",
      "source": [
        "#Question 15 e)\n",
        "i=s[4:16]\n",
        "print(i)"
      ],
      "metadata": {
        "colab": {
          "base_uri": "https://localhost:8080/"
        },
        "id": "Lqts5Qdw_V_x",
        "outputId": "36dcd4a3-7f98-4553-8e33-3e4d19da11ee"
      },
      "execution_count": 61,
      "outputs": [
        {
          "output_type": "stream",
          "name": "stdout",
          "text": [
            "day has been\n"
          ]
        }
      ]
    },
    {
      "cell_type": "code",
      "source": [
        "#Question 15 f)\n",
        "print(n)\n",
        "l=len(n)\n",
        "print(l)"
      ],
      "metadata": {
        "colab": {
          "base_uri": "https://localhost:8080/"
        },
        "id": "LLGTRn0j_y5K",
        "outputId": "58b67b48-0979-4761-e459-c68c7089390f"
      },
      "execution_count": 62,
      "outputs": [
        {
          "output_type": "stream",
          "name": "stdout",
          "text": [
            "ThedayhAsbeenlong\n",
            "17\n"
          ]
        }
      ]
    }
  ]
}