{
  "nbformat": 4,
  "nbformat_minor": 0,
  "metadata": {
    "colab": {
      "provenance": []
    },
    "kernelspec": {
      "name": "python3",
      "display_name": "Python 3"
    },
    "language_info": {
      "name": "python"
    }
  },
  "cells": [
    {
      "cell_type": "code",
      "execution_count": null,
      "metadata": {
        "colab": {
          "base_uri": "https://localhost:8080/"
        },
        "id": "R43h2rArZJk7",
        "outputId": "d38d09a1-b3e6-40fd-d357-43802681f6e8"
      },
      "outputs": [
        {
          "output_type": "stream",
          "name": "stdout",
          "text": [
            "Enter the stringassembly\n",
            "dict_items([('a', 1), ('s', 2), ('e', 1), ('m', 1), ('b', 1), ('l', 1), ('y', 1)])\n"
          ]
        }
      ],
      "source": [
        "#Practice exercise on python basic\n",
        "\n",
        "#Question 1\n",
        "str=input(\"Enter the string\")\n",
        "dic={ }\n",
        "for i in str:\n",
        "  if i in dic:\n",
        "    dic[i]=dic[i]+1\n",
        "  else:\n",
        "    dic[i]=1\n",
        "print(dic.items())\n"
      ]
    },
    {
      "cell_type": "code",
      "source": [
        "#Question 2\n",
        "def maximum(a,b,c):\n",
        "  if a>b and a>c:\n",
        "    l=a\n",
        "  elif b>a and b>c:\n",
        "    l=b\n",
        "  elif c>a and c>b:\n",
        "    l=c\n",
        "  return (l)\n",
        "v1=int(input(\"Enter value 1:\"))\n",
        "v2=int(input(\"Enter value 2:\"))\n",
        "v3=int(input(\"Enter value 3:\"))\n",
        "an=maximum(v1,v2,v3)\n",
        "print(\"Maximum\",an)\n",
        "\n"
      ],
      "metadata": {
        "id": "0bFyaVsgc6bz",
        "colab": {
          "base_uri": "https://localhost:8080/"
        },
        "outputId": "564d78f4-c715-4b15-c1d3-2c6070c77a48"
      },
      "execution_count": 8,
      "outputs": [
        {
          "output_type": "stream",
          "name": "stdout",
          "text": [
            "Enter value 1:34\n",
            "Enter value 2:12\n",
            "Enter value 3:7\n",
            "Maximum 34\n"
          ]
        }
      ]
    },
    {
      "cell_type": "code",
      "source": [
        "#Question 3\n",
        "def exponent(base,exp):\n",
        "  return base**exp\n",
        "b=int(input(\"Enter the base\"))\n",
        "e=int(input(\"Enter the exponent\"))\n",
        "ans=exponent(b,e)\n",
        "print(\"value=\",ans)\n"
      ],
      "metadata": {
        "colab": {
          "base_uri": "https://localhost:8080/"
        },
        "id": "HmZTubNYhPNd",
        "outputId": "989fc684-3f87-4425-ff3d-8918c785b1f8"
      },
      "execution_count": 9,
      "outputs": [
        {
          "output_type": "stream",
          "name": "stdout",
          "text": [
            "Enter the base2\n",
            "Enter the exponent3\n",
            "value= 8\n"
          ]
        }
      ]
    },
    {
      "cell_type": "code",
      "source": [
        "#Question 4\n",
        "def cube(l):\n",
        "  c=0\n",
        "  for i in range(1,l):\n",
        "    c=c+(i**3)\n",
        "  return c\n",
        "n=int(input(\"Enter the number:\"))\n",
        "ans=cube(n)\n",
        "print(\"Sum of cubes:\",ans)"
      ],
      "metadata": {
        "colab": {
          "base_uri": "https://localhost:8080/"
        },
        "id": "Lsahm96piBgN",
        "outputId": "532bc307-a782-4ac4-d772-45ce2fb3b6c7"
      },
      "execution_count": 10,
      "outputs": [
        {
          "output_type": "stream",
          "name": "stdout",
          "text": [
            "Enter the number:4\n",
            "Sum of cubes: 36\n"
          ]
        }
      ]
    },
    {
      "cell_type": "code",
      "source": [
        "#Question 5\n",
        "for i in range(1,11):\n",
        "  if (i%2==0) and (i%5==0):\n",
        "    print(\"FizzBuzz\")\n",
        "  elif i % 2==0:\n",
        "    print(\"Fizz\")\n",
        "  elif i %5==0:\n",
        "    print(\"Buzz\")\n",
        "  else:\n",
        "    print(i)\n",
        "\n",
        ""
      ],
      "metadata": {
        "colab": {
          "base_uri": "https://localhost:8080/"
        },
        "id": "tJOqn7qAjxPO",
        "outputId": "281c315d-04f2-4a2e-99ce-ae75c56157b2"
      },
      "execution_count": 11,
      "outputs": [
        {
          "output_type": "stream",
          "name": "stdout",
          "text": [
            "1\n",
            "Fizz\n",
            "3\n",
            "Fizz\n",
            "Buzz\n",
            "Fizz\n",
            "7\n",
            "Fizz\n",
            "9\n",
            "FizzBuzz\n"
          ]
        }
      ]
    },
    {
      "cell_type": "code",
      "source": [
        "#Question 6\n",
        "v=[2,3,4,2,5,2]\n",
        "d={}\n",
        "for i in v:\n",
        "  if i in d:\n",
        "    d[i]=d[i]+1\n",
        "  else:\n",
        "    d[i]=1\n",
        "answ=max(d,key=d.get)\n",
        "print(\"Most frequent item=\",answ)"
      ],
      "metadata": {
        "colab": {
          "base_uri": "https://localhost:8080/"
        },
        "id": "4z9iu2CmmsxX",
        "outputId": "009c2d63-328b-4e61-b39c-ec78a39f6770"
      },
      "execution_count": 14,
      "outputs": [
        {
          "output_type": "stream",
          "name": "stdout",
          "text": [
            "Most frequent item= 2\n"
          ]
        }
      ]
    },
    {
      "cell_type": "code",
      "source": [
        "#Question 7\n",
        "l1=[2,1,3,1,]\n",
        "ss=0\n",
        "for i in l1:\n",
        "  ss=ss+(i**2)\n",
        "print(\"Sum of square in list=\",ss)"
      ],
      "metadata": {
        "colab": {
          "base_uri": "https://localhost:8080/"
        },
        "id": "uqcBxNpBoNCO",
        "outputId": "3f09cb99-d819-4f61-9b3f-38618a120db3"
      },
      "execution_count": 15,
      "outputs": [
        {
          "output_type": "stream",
          "name": "stdout",
          "text": [
            "Sum of square in list= 15\n"
          ]
        }
      ]
    },
    {
      "cell_type": "code",
      "source": [
        "#Question 8\n",
        "for i in range(1,16):\n",
        "  if (i%2==0):\n",
        "    print(i,\"-\",\"Even\")\n",
        "  elif(i%2!=0):\n",
        "    print(i,\"-\",\"odd\")\n",
        "\n"
      ],
      "metadata": {
        "colab": {
          "base_uri": "https://localhost:8080/"
        },
        "id": "5_D6gsVqyHQI",
        "outputId": "1e60c6d6-2c45-4ce8-d1a6-690fa06d6bd5"
      },
      "execution_count": 17,
      "outputs": [
        {
          "output_type": "stream",
          "name": "stdout",
          "text": [
            "1 - odd\n",
            "2 - Even\n",
            "3 - odd\n",
            "4 - Even\n",
            "5 - odd\n",
            "6 - Even\n",
            "7 - odd\n",
            "8 - Even\n",
            "9 - odd\n",
            "10 - Even\n",
            "11 - odd\n",
            "12 - Even\n",
            "13 - odd\n",
            "14 - Even\n",
            "15 - odd\n"
          ]
        }
      ]
    },
    {
      "cell_type": "code",
      "source": [
        "#Question 9\n",
        "print(\"Temperature conversion\")\n",
        "print(\"Press 1 to convert temperature in celsius to faherenheit\")\n",
        "print(\"Press 2 to convert temperature in faherenheit to celsius\")\n",
        "c=int(input())\n",
        "if c == 1:\n",
        "  tem=int(input(\"Enter the temperature in c\"))\n",
        "  cal=(tem*9/5)+32\n",
        "  print(tem,\"celsius to fahrenheit=\",cal,\"f\")\n",
        "elif c==2:\n",
        "  temp=int(input(\"Enter the temperature in f\"))\n",
        "  calc=(temp-32)*5/9\n",
        "  print(temp,\"Fahrenheit to celsius=\",calc,\"c\")"
      ],
      "metadata": {
        "colab": {
          "base_uri": "https://localhost:8080/"
        },
        "id": "DCEvfu3OyuxZ",
        "outputId": "801dc0d4-0cb4-407d-98f6-78a4e3349e6d"
      },
      "execution_count": 20,
      "outputs": [
        {
          "output_type": "stream",
          "name": "stdout",
          "text": [
            "Temperature conversion\n",
            "Press 1 to convert temperature in celsius to faherenheit\n",
            "Press 2 to convert temperature in faherenheit to celsius\n",
            "2\n",
            "Enter the temperature in f41\n",
            "41 Fahrenheit to celsius= 5.0 c\n"
          ]
        }
      ]
    },
    {
      "cell_type": "code",
      "source": [
        "#Question 10\n",
        "def fact(numb):\n",
        "  f=numb*(numb-1)\n",
        "  return f\n",
        "inp=int(input(\"Enter the number\"))\n",
        "value=fact(inp)\n",
        "print(\"factorial of\",inp,\"=\",value)"
      ],
      "metadata": {
        "colab": {
          "base_uri": "https://localhost:8080/"
        },
        "id": "8fvxQzvu26Ut",
        "outputId": "4bca44f7-0025-4ede-de31-8712e5ebd6ed"
      },
      "execution_count": 23,
      "outputs": [
        {
          "output_type": "stream",
          "name": "stdout",
          "text": [
            "Enter the number3\n",
            "factorial of 3 = 6\n"
          ]
        }
      ]
    }
  ]
}