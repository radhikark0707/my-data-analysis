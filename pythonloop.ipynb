{
  "nbformat": 4,
  "nbformat_minor": 0,
  "metadata": {
    "colab": {
      "provenance": []
    },
    "kernelspec": {
      "name": "python3",
      "display_name": "Python 3"
    },
    "language_info": {
      "name": "python"
    }
  },
  "cells": [
    {
      "cell_type": "code",
      "execution_count": 3,
      "metadata": {
        "colab": {
          "base_uri": "https://localhost:8080/"
        },
        "id": "yK2l6PYsNw8h",
        "outputId": "93140dc3-e19d-4760-f5fc-de00c73c333d"
      },
      "outputs": [
        {
          "output_type": "stream",
          "name": "stdout",
          "text": [
            "Enter first age:45\n",
            "Enter second age:67\n",
            "Enter third age:12\n",
            "Oldest is 67\n",
            "Youngest is 12\n"
          ]
        }
      ],
      "source": [
        "#Question 1\n",
        "age1=int(input(\"Enter first age:\"))\n",
        "age2=int(input(\"Enter second age:\"))\n",
        "age3=int(input(\"Enter third age:\"))\n",
        "if(age1 > age2 and age1 > age3):\n",
        "  print(\"Oldest is\",age1)\n",
        "elif(age2>age1 and age2>age3):\n",
        "  print(\"Oldest is\",age2)\n",
        "elif(age3>age1 and age3>age2):\n",
        "  print(\"oldest is\",age3)\n",
        "if(age1<age2 and age1<age3):\n",
        "  print(\"Youngest is\",age1)\n",
        "elif(age2<age1 and age2<age3):\n",
        "  print(\"Youngest is\",age2)\n",
        "elif(age3<age1 and age3<age2):\n",
        "  print(\"Youngest is\",age3)"
      ]
    },
    {
      "cell_type": "code",
      "source": [
        "#Question 2\n",
        "s=int(input(\"Enter your exam score\"))\n",
        "if(s>= 90):\n",
        "  print(\"You secured A grade\")\n",
        "elif(80<s and s<89):\n",
        "  print(\"You secured B grade\")\n",
        "elif(70< s  and s <79):\n",
        "  print(\"You secured C grade\")\n",
        "elif(s<70):\n",
        "  print(\"You secured F grade\")"
      ],
      "metadata": {
        "colab": {
          "base_uri": "https://localhost:8080/"
        },
        "id": "SCGn9MLkQcMH",
        "outputId": "e122b5e0-efac-47c5-8eb5-2cd70650251d"
      },
      "execution_count": 11,
      "outputs": [
        {
          "output_type": "stream",
          "name": "stdout",
          "text": [
            "Enter your exam score85\n",
            "You secured B grade\n"
          ]
        }
      ]
    },
    {
      "cell_type": "code",
      "source": [
        "#Question 3\n",
        "l=int(input(\"Enter number of items you need to buy\"))\n",
        "a=[ ]\n",
        "for i in range(l):\n",
        "  item=input(\"Enter the item name:\")\n",
        "  a.append(item)\n",
        "a.sort()\n",
        "print(a)\n"
      ],
      "metadata": {
        "colab": {
          "base_uri": "https://localhost:8080/"
        },
        "id": "vepUYxHWTxoD",
        "outputId": "614fee73-50eb-4c52-e5fb-326ca2adf9aa"
      },
      "execution_count": 14,
      "outputs": [
        {
          "output_type": "stream",
          "name": "stdout",
          "text": [
            "Enter number of items you need to buy5\n",
            "Enter the item name:chocolate\n",
            "Enter the item name:pen\n",
            "Enter the item name:book\n",
            "Enter the item name:bag\n",
            "Enter the item name:scarf\n",
            "['bag', 'book', 'chocolate', 'pen', 'scarf']\n"
          ]
        }
      ]
    },
    {
      "cell_type": "code",
      "source": [
        "#Question 4\n",
        "email=input(\"enter mail \")\n",
        "if \"@\" not in email:\n",
        "  print(\"invalid email\")\n",
        "else:\n",
        "  sp=email.split(\"@\")\n",
        "  if len(sp) != 2 :\n",
        "    print(\"invalid email\")\n",
        "  else:\n",
        "    u,d=sp\n",
        "    if \".\" not in d :\n",
        "      print(\"invalid email\")\n",
        "    else:\n",
        "      print(\"valid email\")"
      ],
      "metadata": {
        "colab": {
          "base_uri": "https://localhost:8080/"
        },
        "id": "T6Hwgsm3VbPA",
        "outputId": "ae12b755-1d53-47b6-bfac-c26ad6240199"
      },
      "execution_count": 16,
      "outputs": [
        {
          "output_type": "stream",
          "name": "stdout",
          "text": [
            "enter mail radhikark0707@gmail.com\n",
            "valid email\n"
          ]
        }
      ]
    },
    {
      "cell_type": "code",
      "source": [
        "#Question 5\n",
        "d=int(input(\"Enter number of days in delay\"))\n",
        "if d<=7:\n",
        "  print(\"no fine\")\n",
        "elif d>8 and d< 30:\n",
        "  f=2*d\n",
        "  print(\"fine amount is\", f)\n",
        "elif d>30 :\n",
        "  f=5*d\n",
        "  print(\"fine amount is \",f)"
      ],
      "metadata": {
        "colab": {
          "base_uri": "https://localhost:8080/"
        },
        "id": "2ZDsJj73nYro",
        "outputId": "19ee63c0-f53a-4f9b-e4d1-75a3a122692f"
      },
      "execution_count": 19,
      "outputs": [
        {
          "output_type": "stream",
          "name": "stdout",
          "text": [
            "Enter number of days in delay4\n",
            "no fine\n"
          ]
        }
      ]
    },
    {
      "cell_type": "code",
      "source": [
        "#Question 6\n",
        "c=input(\"Enter the character\")\n",
        "u=c.upper()\n",
        "v='AEIOU'\n",
        "if c in v:\n",
        "  print(\"vowel\")\n",
        "else:\n",
        "  print(\"Consonant\")"
      ],
      "metadata": {
        "colab": {
          "base_uri": "https://localhost:8080/"
        },
        "id": "mbiJ86bLpna-",
        "outputId": "a111af36-5761-43d7-fd11-807e621f614d"
      },
      "execution_count": 22,
      "outputs": [
        {
          "output_type": "stream",
          "name": "stdout",
          "text": [
            "Enter the characterI\n",
            "vowel\n"
          ]
        }
      ]
    },
    {
      "cell_type": "code",
      "source": [
        "#Question 7\n",
        "n=int(input(\"enter the number\"))\n",
        "f=1\n",
        "for i in range(1,n+1):\n",
        "  f=f*i\n",
        "print(\"factorial of\",n, '=',f)"
      ],
      "metadata": {
        "colab": {
          "base_uri": "https://localhost:8080/"
        },
        "id": "lDRQMiwQqssg",
        "outputId": "2e8aed47-707a-48dc-e4ff-adc55317733e"
      },
      "execution_count": 24,
      "outputs": [
        {
          "output_type": "stream",
          "name": "stdout",
          "text": [
            "enter the number5\n",
            "factorial of 5 = 120\n"
          ]
        }
      ]
    },
    {
      "cell_type": "code",
      "source": [
        "#Question 8\n",
        "l=int(input(\"Enter the limit:\"))\n",
        "a=0\n",
        "b=1\n",
        "c=0\n",
        "print(a)\n",
        "for i in range(l+1):\n",
        "  a=b\n",
        "  b=c\n",
        "  c=a+b\n",
        "  print(c)"
      ],
      "metadata": {
        "colab": {
          "base_uri": "https://localhost:8080/"
        },
        "id": "JZIVSXjHvc7o",
        "outputId": "1d1c27a1-3eb3-4593-8bbd-7d80b6b895a3"
      },
      "execution_count": 28,
      "outputs": [
        {
          "output_type": "stream",
          "name": "stdout",
          "text": [
            "Enter the limit:10\n",
            "0\n",
            "1\n",
            "1\n",
            "2\n",
            "3\n",
            "5\n",
            "8\n",
            "13\n",
            "21\n",
            "34\n",
            "55\n",
            "89\n"
          ]
        }
      ]
    },
    {
      "cell_type": "code",
      "source": [
        "#Question 9\n",
        "import random\n",
        "print(\"Guess a number\")\n",
        "num=random.randint(1,1000)\n",
        "chance=0\n",
        "max=10\n",
        "while chance <= max:\n",
        "  n=int(input(\"Enter your guess number\"))\n",
        "  chance=chance+1\n",
        "  if n==num:\n",
        "    print(\"Guess correct\")\n",
        "  else:\n",
        "    print(\"Try again\")"
      ],
      "metadata": {
        "colab": {
          "base_uri": "https://localhost:8080/"
        },
        "id": "cebwl0K52Fk0",
        "outputId": "4c6a98a1-6294-4df2-9827-d04770a38289"
      },
      "execution_count": 29,
      "outputs": [
        {
          "output_type": "stream",
          "name": "stdout",
          "text": [
            "Guess a number\n",
            "Enter your guess number768\n",
            "Try again\n",
            "Enter your guess number34\n",
            "Try again\n",
            "Enter your guess number899\n",
            "Try again\n",
            "Enter your guess number1335\n",
            "Try again\n",
            "Enter your guess number1234\n",
            "Try again\n",
            "Enter your guess number234\n",
            "Try again\n",
            "Enter your guess number67\n",
            "Try again\n",
            "Enter your guess number2345\n",
            "Try again\n",
            "Enter your guess number12\n",
            "Try again\n",
            "Enter your guess number1\n",
            "Try again\n",
            "Enter your guess number1\n",
            "Try again\n"
          ]
        }
      ]
    },
    {
      "cell_type": "code",
      "source": [],
      "metadata": {
        "id": "sqLY36I3FDbT"
      },
      "execution_count": null,
      "outputs": []
    },
    {
      "cell_type": "code",
      "source": [
        "\n",
        "#Question 10\n",
        "a=int(input(\"Enter first number\"))\n",
        "b=int(input(\"Enter second number\"))\n",
        "print(\"Addition\")\n",
        "print(\"Substraction\")\n",
        "print(\"Multiplication\")\n",
        "print(\"Division\")\n",
        "print(\"Exit\")\n",
        "c=input(\"Enter your choice:\")\n",
        "o=c.lower()\n",
        "if o=='addition':\n",
        "  s=a+b\n",
        "  print(\"Addition\",s)\n",
        "elif o=='substraction':\n",
        "  s=a-b\n",
        "  print(\"Substraction\",s)\n",
        "elif o=='multiplication':\n",
        "  s=a*b\n",
        "  print(\"Multiplication\",s)\n",
        "elif o=='division':\n",
        "  s=a/b\n",
        "  print(\"Division\",s)\n",
        "elif o=='exit':\n",
        "  print(\"Exit\")\n",
        "\n"
      ],
      "metadata": {
        "colab": {
          "base_uri": "https://localhost:8080/"
        },
        "id": "L5QqYDi7CIMD",
        "outputId": "a5468b2d-f106-45c6-c8b7-f17b0b0bae85"
      },
      "execution_count": 36,
      "outputs": [
        {
          "output_type": "stream",
          "name": "stdout",
          "text": [
            "Enter first number5\n",
            "Enter second number4\n",
            "Addition\n",
            "Substraction\n",
            "Multiplication\n",
            "Division\n",
            "Exit\n",
            "Enter your choice:MULTIPLICATION\n",
            "Multiplication 20\n"
          ]
        }
      ]
    }
  ]
}